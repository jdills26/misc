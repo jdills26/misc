{
 "cells": [
  {
   "cell_type": "markdown",
   "metadata": {},
   "source": [
    "# Explore Byte Back data"
   ]
  },
  {
   "cell_type": "markdown",
   "metadata": {},
   "source": [
    "Goals: 1) Describe observations; 2) Identify any problems in dataset and find ways to fix them; 3)storytelling with data"
   ]
  },
  {
   "cell_type": "code",
   "execution_count": 1,
   "metadata": {
    "collapsed": false
   },
   "outputs": [],
   "source": [
    "import pandas as pd\n",
    "import seaborn as sns\n",
    "%matplotlib inline\n",
    "import matplotlib.pyplot as plt"
   ]
  },
  {
   "cell_type": "code",
   "execution_count": 2,
   "metadata": {
    "collapsed": false
   },
   "outputs": [],
   "source": [
    "df = pd.read_csv('data.csv', encoding = 'iso-8859-1')"
   ]
  },
  {
   "cell_type": "markdown",
   "metadata": {},
   "source": [
    "There at 43 columns and 4705 observations (rows).\n",
    "There appear to be only 4 numerical columns, but some may be misclassified.\n",
    "Regarding descriptive statistics below, age is the only column where the mean (average) and standard deviation really mean anything.  The other columns are numbers but changes in units of them don't have significance."
   ]
  },
  {
   "cell_type": "code",
   "execution_count": 3,
   "metadata": {
    "collapsed": false
   },
   "outputs": [
    {
     "name": "stdout",
     "output_type": "stream",
     "text": [
      "(4705, 43)\n"
     ]
    },
    {
     "data": {
      "text/html": [
       "<div>\n",
       "<table border=\"1\" class=\"dataframe\">\n",
       "  <thead>\n",
       "    <tr style=\"text-align: right;\">\n",
       "      <th></th>\n",
       "      <th>FY13_14_15_ID</th>\n",
       "      <th>Class ID</th>\n",
       "      <th>Zip Code</th>\n",
       "      <th>Age</th>\n",
       "    </tr>\n",
       "  </thead>\n",
       "  <tbody>\n",
       "    <tr>\n",
       "      <th>count</th>\n",
       "      <td>4705.000000</td>\n",
       "      <td>4705.000000</td>\n",
       "      <td>4380.000000</td>\n",
       "      <td>4210.000000</td>\n",
       "    </tr>\n",
       "    <tr>\n",
       "      <th>mean</th>\n",
       "      <td>1293.578959</td>\n",
       "      <td>5914.398937</td>\n",
       "      <td>20071.764384</td>\n",
       "      <td>49.142755</td>\n",
       "    </tr>\n",
       "    <tr>\n",
       "      <th>std</th>\n",
       "      <td>733.706499</td>\n",
       "      <td>283.036432</td>\n",
       "      <td>228.459502</td>\n",
       "      <td>14.393192</td>\n",
       "    </tr>\n",
       "    <tr>\n",
       "      <th>min</th>\n",
       "      <td>1.000000</td>\n",
       "      <td>5550.000000</td>\n",
       "      <td>20001.000000</td>\n",
       "      <td>14.000000</td>\n",
       "    </tr>\n",
       "    <tr>\n",
       "      <th>25%</th>\n",
       "      <td>654.000000</td>\n",
       "      <td>5694.000000</td>\n",
       "      <td>20010.000000</td>\n",
       "      <td>39.250000</td>\n",
       "    </tr>\n",
       "    <tr>\n",
       "      <th>50%</th>\n",
       "      <td>1308.000000</td>\n",
       "      <td>5836.000000</td>\n",
       "      <td>20018.000000</td>\n",
       "      <td>52.000000</td>\n",
       "    </tr>\n",
       "    <tr>\n",
       "      <th>75%</th>\n",
       "      <td>1870.000000</td>\n",
       "      <td>6129.000000</td>\n",
       "      <td>20020.000000</td>\n",
       "      <td>59.000000</td>\n",
       "    </tr>\n",
       "    <tr>\n",
       "      <th>max</th>\n",
       "      <td>2703.000000</td>\n",
       "      <td>7021.000000</td>\n",
       "      <td>22314.000000</td>\n",
       "      <td>95.000000</td>\n",
       "    </tr>\n",
       "  </tbody>\n",
       "</table>\n",
       "</div>"
      ],
      "text/plain": [
       "       FY13_14_15_ID     Class ID      Zip Code          Age\n",
       "count    4705.000000  4705.000000   4380.000000  4210.000000\n",
       "mean     1293.578959  5914.398937  20071.764384    49.142755\n",
       "std       733.706499   283.036432    228.459502    14.393192\n",
       "min         1.000000  5550.000000  20001.000000    14.000000\n",
       "25%       654.000000  5694.000000  20010.000000    39.250000\n",
       "50%      1308.000000  5836.000000  20018.000000    52.000000\n",
       "75%      1870.000000  6129.000000  20020.000000    59.000000\n",
       "max      2703.000000  7021.000000  22314.000000    95.000000"
      ]
     },
     "execution_count": 3,
     "metadata": {},
     "output_type": "execute_result"
    }
   ],
   "source": [
    "print(df.shape)\n",
    "df.describe()"
   ]
  },
  {
   "cell_type": "markdown",
   "metadata": {},
   "source": [
    "Start date and end date need to be made into date-time data types for use later on"
   ]
  },
  {
   "cell_type": "code",
   "execution_count": 4,
   "metadata": {
    "collapsed": false
   },
   "outputs": [],
   "source": [
    "df['Start Date'] = pd.to_datetime(df['Start Date'])\n",
    "df['End Date'] = pd.to_datetime(df['End Date'])"
   ]
  },
  {
   "cell_type": "code",
   "execution_count": 5,
   "metadata": {
    "collapsed": false
   },
   "outputs": [
    {
     "name": "stdout",
     "output_type": "stream",
     "text": [
      "<class 'pandas.core.series.Series'>\n",
      "<class 'pandas.core.series.Series'>\n"
     ]
    }
   ],
   "source": [
    "#make sure it worked\n",
    "print(type(df['Start Date']))\n",
    "print(type(df['End Date']))"
   ]
  },
  {
   "cell_type": "markdown",
   "metadata": {},
   "source": [
    "In this dataset, the most enrollment was in 2013, followed by 2013, 2015, and then 2012.  Unsure what this means regarding total number of students at Byte Back. "
   ]
  },
  {
   "cell_type": "code",
   "execution_count": 6,
   "metadata": {
    "collapsed": false,
    "scrolled": true
   },
   "outputs": [
    {
     "name": "stdout",
     "output_type": "stream",
     "text": [
      "2012     673\n",
      "2013    1601\n",
      "2014    1571\n",
      "2015     860\n",
      "Name: Start Date, dtype: int64\n"
     ]
    }
   ],
   "source": [
    "print(df['Start Date'].dt.year.value_counts().sort_index())"
   ]
  },
  {
   "cell_type": "markdown",
   "metadata": {},
   "source": [
    "Histogram of how many observations by year of start date"
   ]
  },
  {
   "cell_type": "code",
   "execution_count": 7,
   "metadata": {
    "collapsed": false,
    "scrolled": true
   },
   "outputs": [
    {
     "data": {
      "text/plain": [
       "<matplotlib.axes._subplots.AxesSubplot at 0xaa4a470>"
      ]
     },
     "execution_count": 7,
     "metadata": {},
     "output_type": "execute_result"
    },
    {
     "data": {
      "image/png": "[encoded data removed]",
      "text/plain": [
       "<matplotlib.figure.Figure at 0xaa203c8>"
      ]
     },
     "metadata": {},
     "output_type": "display_data"
    }
   ],
   "source": [
    "df['Start Date'].dt.year.value_counts().sort_index().plot(kind='bar')"
   ]
  },
  {
   "cell_type": "markdown",
   "metadata": {},
   "source": [
    "Line plot below shows that in January (month 1) enrollment is the highest, followed by September, then March."
   ]
  },
  {
   "cell_type": "code",
   "execution_count": 12,
   "metadata": {
    "collapsed": false
   },
   "outputs": [
    {
     "data": {
      "text/plain": [
       "<matplotlib.axes._subplots.AxesSubplot at 0xaaae6a0>"
      ]
     },
     "execution_count": 12,
     "metadata": {},
     "output_type": "execute_result"
    },
    {
     "data": {
      "image/png": "[encoded data removed]",
      "text/plain": [
       "<matplotlib.figure.Figure at 0xb750f60>"
      ]
     },
     "metadata": {},
     "output_type": "display_data"
    }
   ],
   "source": [
    "df['Start Date'].dt.month.value_counts().sort_index().plot()"
   ]
  },
  {
   "cell_type": "markdown",
   "metadata": {},
   "source": [
    "There are 488 unique class ID numbers and 2696 student numbers"
   ]
  },
  {
   "cell_type": "code",
   "execution_count": 15,
   "metadata": {
    "collapsed": false
   },
   "outputs": [
    {
     "data": {
      "text/plain": [
       "488"
      ]
     },
     "execution_count": 15,
     "metadata": {},
     "output_type": "execute_result"
    }
   ],
   "source": [
    "len(df['Class ID'].unique())"
   ]
  },
  {
   "cell_type": "code",
   "execution_count": 16,
   "metadata": {
    "collapsed": false
   },
   "outputs": [
    {
     "data": {
      "text/plain": [
       "2696"
      ]
     },
     "execution_count": 16,
     "metadata": {},
     "output_type": "execute_result"
    }
   ],
   "source": [
    "len(df['FY13_14_15_ID'].unique())"
   ]
  },
  {
   "cell_type": "markdown",
   "metadata": {},
   "source": [
    "Look at sum of blank (null) values by column:"
   ]
  },
  {
   "cell_type": "code",
   "execution_count": 17,
   "metadata": {
    "collapsed": false
   },
   "outputs": [
    {
     "data": {
      "text/plain": [
       "FY13_14_15_ID                  0\n",
       "Class ID                       0\n",
       "Class Name                     0\n",
       "Start Date                     0\n",
       "End Date                       0\n",
       "Enrollment Status              0\n",
       "Location                       3\n",
       "Instructor                    13\n",
       "Gender                       128\n",
       "Race                         164\n",
       "State                        177\n",
       "City                         181\n",
       "Zip Code                     325\n",
       "Housing                      334\n",
       "Employed                     350\n",
       "Class Result                 425\n",
       "DOB                          495\n",
       "Age                          495\n",
       "Pass/DNP                     510\n",
       "Highest Education            537\n",
       "Full or Part Time            929\n",
       "Available and Looking        968\n",
       "With or Without Benefits     995\n",
       "Long Term or Temporary      1041\n",
       "Time                        1061\n",
       "Ward                        1203\n",
       "Special Funding             1282\n",
       "Reason for Unemployment     1283\n",
       "Length of Unemployed        1467\n",
       "Income Documentation        1615\n",
       "Monthly Income Amount       1710\n",
       "Total in Household          1714\n",
       "Total Household Income      1827\n",
       "Total Individual Income     1838\n",
       ". of Jobs                   2345\n",
       "Type of Company             2409\n",
       "HoursWeek                   2428\n",
       "Industry                    2429\n",
       "Happiness                   2455\n",
       "Occupation                  2462\n",
       "Job provide Benefits        2466\n",
       "How long Working            2473\n",
       "County                      2894\n",
       "dtype: int64"
      ]
     },
     "execution_count": 17,
     "metadata": {},
     "output_type": "execute_result"
    }
   ],
   "source": [
    "df.isnull().sum().sort_values()"
   ]
  },
  {
   "cell_type": "markdown",
   "metadata": {},
   "source": [
    "As you can see, there is ALOT of missing data.  This is one problem with the data."
   ]
  },
  {
   "cell_type": "markdown",
   "metadata": {
    "collapsed": true
   },
   "source": [
    "Another problem is that many columns have similar text, but it is entered slightly differently.  This needs to be grouped and standardized. I will do this for Class Name, Pass/DNP, Time, Gender, and Race - otherwise I wouldn't be able to plot anything because there would be too much going on on the x-axis and there would be too many categories for similar answers."
   ]
  },
  {
   "cell_type": "code",
   "execution_count": 18,
   "metadata": {
    "collapsed": true
   },
   "outputs": [],
   "source": [
    "df['Class Name']=df['Class Name'].str.lower()"
   ]
  },
  {
   "cell_type": "code",
   "execution_count": 19,
   "metadata": {
    "collapsed": true
   },
   "outputs": [],
   "source": [
    "import warnings\n",
    "warnings.filterwarnings(\"ignore\")\n",
    "\n",
    "df['Class Name'][df['Class Name'].isin(['pc for beginners-1','pc for beginners-2','pc for beginners-6 week',\\\n",
    "                                        'pc for beginners-2 for literacy learners', 'pc for beginners-1 for literacy learners'])] = 'PC for Beginners'\n",
    "df['Class Name'][df['Class Name'].isin(['office track'])] = 'Office Track'\n",
    "df['Class Name'][df['Class Name'].isin(['administrative assistant-ic3 certification'])] = 'IC3'\n",
    "df['Class Name'][df['Class Name'].isin(['mos excel','mos access', 'mos word', 'mos:outlook'])] = 'MOS'\n",
    "df['Class Name'][df['Class Name'].isin(['a+ certification','a+ boot camp'])] = 'A+'\n",
    "df['Class Name'][df['Class Name'].isin(['enterprise: quickbooks','quickbooks','enterprise: web design', 'enterprise: graphic design'\\\n",
    "                                       'enterprise: online tools', 'enterprise: office track', 'enterprise: excel for business',\\\n",
    "                                       'enterprise: money management', 'money management', 'enterprise: graphic design','enterprise: access', 'enterprise: online tools'])] = 'Enterprise'\n",
    "df['Class Name'][df['Class Name'].isin(['pc for beginners-1-spanish','pc for beginners-2-spanish', 'office track-spanish', 'pc for beginners-6-week-spanish'])] = 'Spanish Classes'\n",
    "df['Class Name'][df['Class Name'].isin(['sytt','pc hardware and networking', 'mcitp', 'sasha bruce tech sampler','html 1&2', 'html 1&2'\\\n",
    "                                       'windows 7', 'net+ certification', 'windows 7', 'mta'])] = 'Other'"
   ]
  },
  {
   "cell_type": "markdown",
   "metadata": {},
   "source": [
    "I grouped the classes into eight different classes (shown below).  This is what made logical sense to me, but I can easily change the grouping."
   ]
  },
  {
   "cell_type": "code",
   "execution_count": 20,
   "metadata": {
    "collapsed": false,
    "scrolled": true
   },
   "outputs": [
    {
     "data": {
      "text/plain": [
       "PC for Beginners    2516\n",
       "Office Track         835\n",
       "Enterprise           468\n",
       "Other                344\n",
       "Spanish Classes      205\n",
       "IC3                  147\n",
       "A+                   117\n",
       "MOS                   73\n",
       "Name: Class Name, dtype: int64"
      ]
     },
     "execution_count": 20,
     "metadata": {},
     "output_type": "execute_result"
    }
   ],
   "source": [
    "df['Class Name'].value_counts()"
   ]
  },
  {
   "cell_type": "markdown",
   "metadata": {},
   "source": [
    "Below you can see that PC for Beginners is definitely the most popular class."
   ]
  },
  {
   "cell_type": "code",
   "execution_count": 21,
   "metadata": {
    "collapsed": false
   },
   "outputs": [
    {
     "data": {
      "text/plain": [
       "<matplotlib.axes._subplots.AxesSubplot at 0xace8dd8>"
      ]
     },
     "execution_count": 21,
     "metadata": {},
     "output_type": "execute_result"
    },
    {
     "data": {
      "image/png": "[encoded data removed]",
      "text/plain": [
       "<matplotlib.figure.Figure at 0x44b2470>"
      ]
     },
     "metadata": {},
     "output_type": "display_data"
    }
   ],
   "source": [
    "plt.figure(figsize=(11,6))\n",
    "sns.countplot(df['Class Name'], palette = 'Set3')"
   ]
  },
  {
   "cell_type": "markdown",
   "metadata": {},
   "source": [
    "Pass/DNP has the same thing written different ways - fix this"
   ]
  },
  {
   "cell_type": "code",
   "execution_count": 23,
   "metadata": {
    "collapsed": true
   },
   "outputs": [],
   "source": [
    "df['Pass/DNP'][df['Pass/DNP'].isin(['Pass','pass','PASS','2 out of 3'])] = 'pass'\n",
    "df['Pass/DNP'][df['Pass/DNP'].isin(['1/3','1 out of 3', 'DNP', '0 out of 3', 'No Show'])] = 'DNP'\n",
    "df['Pass/DNP'][df['Pass/DNP'].isin(['1 of 2', '1 out 2', '1 out of 2', '1/2'])] = '50%'\n",
    "df['Pass/DNP'][df['Pass/DNP'].isin(['TBD','n/a', '3-Jan', '2-Jan'])] = 'TBD'"
   ]
  },
  {
   "cell_type": "code",
   "execution_count": 24,
   "metadata": {
    "collapsed": false
   },
   "outputs": [
    {
     "data": {
      "text/plain": [
       "pass    2823\n",
       "DNP     1219\n",
       "TBD      142\n",
       "50%       11\n",
       "Name: Pass/DNP, dtype: int64"
      ]
     },
     "execution_count": 24,
     "metadata": {},
     "output_type": "execute_result"
    }
   ],
   "source": [
    "df['Pass/DNP'].value_counts()"
   ]
  },
  {
   "cell_type": "code",
   "execution_count": 27,
   "metadata": {
    "collapsed": false,
    "scrolled": true
   },
   "outputs": [],
   "source": [
    "df['Instructor']=df['Instructor'].str.lower()\n",
    "df['Instructor'][df['Instructor'].isin(['bridgitte','bridgitte valcin'])] = 'bridgitte valcin'\n",
    "#df['Instructor'].value_counts()"
   ]
  },
  {
   "cell_type": "markdown",
   "metadata": {},
   "source": [
    "Quick look at instructors, class name, and number of students that passed or did not.  For example, Tehmina Mirza taught PC for Beginners and 113 passed."
   ]
  },
  {
   "cell_type": "code",
   "execution_count": 28,
   "metadata": {
    "collapsed": false,
    "scrolled": true
   },
   "outputs": [
    {
     "data": {
      "text/plain": [
       "Pass/DNP  Instructor                        Class Name      \n",
       "TBD       ima simmons                       PC for Beginners      1\n",
       "DNP       cynthia ward                      PC for Beginners      1\n",
       "          diana arango                      Spanish Classes       1\n",
       "TBD       tamikia wims                      PC for Beginners      1\n",
       "          nathan roberston                  PC for Beginners      1\n",
       "DNP       faith nwaoha                      IC3                   1\n",
       "TBD       carol mbabazi                     Office Track          1\n",
       "          andrew quilpa                     MOS                   1\n",
       "DNP       jewel scott                       MOS                   1\n",
       "pass      alaide ibarra and lorena holguin  Spanish Classes       1\n",
       "DNP       yasheeca green                    Other                 1\n",
       "          kavanaugh livingston              PC for Beginners      1\n",
       "          kazi lawrence                     PC for Beginners      1\n",
       "          kristopher allen                  Office Track          1\n",
       "          norton francis                    Enterprise            1\n",
       "          monique diop                      PC for Beginners      1\n",
       "          lillie thomas                     Office Track          1\n",
       "          michael williams                  Other                 1\n",
       "                                            A+                    1\n",
       "          scott ryan                        Enterprise            1\n",
       "          brigette valcin                   Office Track          1\n",
       "          marcus thurston                   PC for Beginners      1\n",
       "pass      ted frazier                       A+                    1\n",
       "DNP       bob grannan                       Enterprise            1\n",
       "pass      tamikia wims                      PC for Beginners      1\n",
       "DNP       niccole bailey                    PC for Beginners      2\n",
       "          leslie cooper                     Office Track          2\n",
       "TBD       rebecca masevich                  Office Track          2\n",
       "DNP       erica young                       Office Track          2\n",
       "          erin jayes                        Office Track          2\n",
       "                                                               ... \n",
       "          erika baumann                     PC for Beginners     32\n",
       "pass      erika baumann                     PC for Beginners     32\n",
       "          faith nwaoha                      PC for Beginners     32\n",
       "          andrew, scott, cherise & neil     Other                33\n",
       "DNP       alaide ibarra                     PC for Beginners     33\n",
       "pass      jennifer washington               PC for Beginners     35\n",
       "DNP       neil rickard                      PC for Beginners     38\n",
       "          tehmina mirza                     PC for Beginners     39\n",
       "pass      linda stroman                     Enterprise           40\n",
       "          lydia vanderbilt                  Office Track         41\n",
       "          latierra piphus                   PC for Beginners     42\n",
       "          lydia vanderbilt                  PC for Beginners     43\n",
       "          andrew quilpa                     Office Track         45\n",
       "                                            IC3                  46\n",
       "          roo george-warren                 PC for Beginners     49\n",
       "DNP       andrea mack                       PC for Beginners     49\n",
       "pass      erica young                       PC for Beginners     50\n",
       "          andrew quilpa                     PC for Beginners     50\n",
       "DNP       cherise graves                    PC for Beginners     51\n",
       "pass      kalleigh landstra                 PC for Beginners     55\n",
       "          alaide ibarra                     PC for Beginners     57\n",
       "          lisvette garcia                   Spanish Classes      61\n",
       "          neil rickard                      PC for Beginners     66\n",
       "          andrea mack                       PC for Beginners     68\n",
       "          cherise graves                    Enterprise           70\n",
       "          david foster                      PC for Beginners     73\n",
       "          anna mulamba                      PC for Beginners     80\n",
       "          scott ryan                        Other                85\n",
       "          cherise graves                    PC for Beginners    109\n",
       "          tehmina mirza                     PC for Beginners    113\n",
       "dtype: int64"
      ]
     },
     "execution_count": 28,
     "metadata": {},
     "output_type": "execute_result"
    }
   ],
   "source": [
    "d=df\n",
    "d.groupby(['Pass/DNP', 'Instructor', 'Class Name']).size().sort_values()"
   ]
  },
  {
   "cell_type": "markdown",
   "metadata": {},
   "source": [
    "Overall, about twice as many students pass as those that do not pass!"
   ]
  },
  {
   "cell_type": "code",
   "execution_count": 29,
   "metadata": {
    "collapsed": false,
    "scrolled": true
   },
   "outputs": [
    {
     "data": {
      "text/plain": [
       "<matplotlib.axes._subplots.AxesSubplot at 0xa811208>"
      ]
     },
     "execution_count": 29,
     "metadata": {},
     "output_type": "execute_result"
    },
    {
     "data": {
      "image/png": "[encoded data removed]",
      "text/plain": [
       "<matplotlib.figure.Figure at 0xabd67b8>"
      ]
     },
     "metadata": {},
     "output_type": "display_data"
    }
   ],
   "source": [
    "sns.countplot(df['Pass/DNP'], palette = 'Set3')"
   ]
  },
  {
   "cell_type": "markdown",
   "metadata": {},
   "source": [
    "Quick look at pass rates by class name:"
   ]
  },
  {
   "cell_type": "code",
   "execution_count": 30,
   "metadata": {
    "collapsed": false,
    "scrolled": true
   },
   "outputs": [
    {
     "data": {
      "text/plain": [
       "<matplotlib.legend.Legend at 0xabfb390>"
      ]
     },
     "execution_count": 30,
     "metadata": {},
     "output_type": "execute_result"
    },
    {
     "data": {
      "image/png": "[encoded data removed]",
      "text/plain": [
       "<matplotlib.figure.Figure at 0xac2ce80>"
      ]
     },
     "metadata": {},
     "output_type": "display_data"
    }
   ],
   "source": [
    "plt.figure(figsize=(10,6))\n",
    "sns.countplot(data=df, x='Class Name',hue='Pass/DNP', palette = 'Set3')\n",
    "# Put the legend out of the figure\n",
    "plt.legend(bbox_to_anchor=(1.05, 1), loc=2, borderaxespad=0.)"
   ]
  },
  {
   "cell_type": "markdown",
   "metadata": {},
   "source": [
    "Group class times into morning, afternoon, and evening:"
   ]
  },
  {
   "cell_type": "code",
   "execution_count": 31,
   "metadata": {
    "collapsed": true
   },
   "outputs": [],
   "source": [
    "df['Time'][df['Time'].isin(['9:00 AM-11:00 AM','9AM - 1PM','PASS','2 out of 3', '9 AM - 3 PM', '10 AM - 2 PM','10:00 AM - 12:00 PM',\\\n",
    "                           '9 AM - 1 PM', '9:30 AM - 11:30 AM','9 AM - 12:50 PM', '9 AM - 12:50 PM','11 AM - 1 PM', '9 AM - 12 PM',\\\n",
    "                           '10 AM - 12 PM', '9 AM - 11 AM'])] = 'morning'\n",
    "df['Time'][df['Time'].isin(['12:00 PM - 2:00 PM','2 PM - 5 PM','12:30 PM - 4:30 PM','1PM - 4PM', '3:00 PM - 5:00 PM',\\\n",
    "                           '2:30 PM - 4:30 PM', '1:00 PM - 3:00 PM','1 PM - 4 PM', '1 PM - 5 PM', '2 PM - 4 PM','12:30 PM - 6 PM',\\\n",
    "                            '12:30 PM - 2:30 PM', '3:15 PM - 5:15 PM', '3 PM - 5 PM', '1 PM - 3 PM', '12 PM - 2 PM'])] = 'afternoon'\n",
    "df['Time'][df['Time'].isin(['6:00 PM - 8:00','7:00 PM - 9:00 PM','5 PM - 7 PM','6 PM - 8:30 PM', '6:30 PM - 8:30 PM', '6 PM - 9PM',\\\n",
    "                           '7 PM - 9 PM', '6:00 PM - 8:00 PM', '6:45 PM - 8:45 PM', '7 PM - 8:50 PM', '4:30 PM - 6:30 PM',\\\n",
    "                           '6 PM - 9 PM', '6 PM - 9 PM', '6 PM - 8 PM'])] = 'evening'"
   ]
  },
  {
   "cell_type": "markdown",
   "metadata": {},
   "source": [
    "Afternoon classes are most popular, followed by morning, then evening."
   ]
  },
  {
   "cell_type": "code",
   "execution_count": 32,
   "metadata": {
    "collapsed": false
   },
   "outputs": [
    {
     "data": {
      "text/plain": [
       "afternoon    1479\n",
       "morning      1329\n",
       "evening       836\n",
       "Name: Time, dtype: int64"
      ]
     },
     "execution_count": 32,
     "metadata": {},
     "output_type": "execute_result"
    }
   ],
   "source": [
    "df['Time'].value_counts()"
   ]
  },
  {
   "cell_type": "code",
   "execution_count": 33,
   "metadata": {
    "collapsed": false,
    "scrolled": true
   },
   "outputs": [
    {
     "data": {
      "text/plain": [
       "<matplotlib.legend.Legend at 0xae13588>"
      ]
     },
     "execution_count": 33,
     "metadata": {},
     "output_type": "execute_result"
    },
    {
     "data": {
      "image/png": "[encoded data removed]",
      "text/plain": [
       "<matplotlib.figure.Figure at 0xad21358>"
      ]
     },
     "metadata": {},
     "output_type": "display_data"
    }
   ],
   "source": [
    "plt.figure(figsize=(10,6))\n",
    "sns.countplot(data=df, x='Class Name',hue='Time', palette = 'Set3')\n",
    "# Put the legend out of the figure\n",
    "plt.legend(bbox_to_anchor=(1.05, 1), loc=2, borderaxespad=0.)"
   ]
  },
  {
   "cell_type": "markdown",
   "metadata": {},
   "source": [
    "It would be interesting to look into student happiness.  Unfortunately a lot of this data is missing.  In the future, the survey may need multiple choice or a rating number to encourage more students to answer this question."
   ]
  },
  {
   "cell_type": "code",
   "execution_count": 34,
   "metadata": {
    "collapsed": false
   },
   "outputs": [
    {
     "data": {
      "text/plain": [
       "Unemployed                                                  1101\n",
       "Very Happy                                                   211\n",
       "Neutral                                                      200\n",
       "Somewhat Happy                                               178\n",
       "App Missing                                                  124\n",
       "Somewhat Unhappy                                              95\n",
       "Not Answered                                                  89\n",
       "Very Unhappy                                                  76\n",
       "Somewhat happy                                                57\n",
       "Very happy                                                    23\n",
       "1-page                                                        17\n",
       "Very unhappy                                                  10\n",
       "somewhat happy                                                 7\n",
       "Somewhat                                                       5\n",
       "neutral                                                        5\n",
       "N/A`                                                           5\n",
       "very happy                                                     5\n",
       "Happy                                                          5\n",
       "not what i really want to do                                   3\n",
       "very                                                           3\n",
       "Not Anwered                                                    2\n",
       "Unhappy                                                        2\n",
       "Somewhat unhappy                                               2\n",
       "I love the performing arts                                     2\n",
       "Happy when working                                             2\n",
       "4                                                              2\n",
       "Very Unnhappy                                                  2\n",
       "Somewhat happy, Needs new skills to get other better job       2\n",
       "NEUTRAL                                                        2\n",
       "Somewhat happy.                                                2\n",
       "Somewhat happt                                                 1\n",
       "pt. job want to learn business                                 1\n",
       "neutral (wants to teach math in middle/ high)                  1\n",
       "neutral (wants to teach in real school)                        1\n",
       "Other- La verdad me encanta mi trabajo                         1\n",
       "Yes                                                            1\n",
       "SOMEWHAT                                                       1\n",
       "Verry unhappy                                                  1\n",
       "like cars but pay is not good                                  1\n",
       "VERY                                                           1\n",
       "Other- Very happy until laid off                               1\n",
       "Name: Happiness, dtype: int64"
      ]
     },
     "execution_count": 34,
     "metadata": {},
     "output_type": "execute_result"
    }
   ],
   "source": [
    "df['Happiness'].value_counts()"
   ]
  },
  {
   "cell_type": "code",
   "execution_count": 35,
   "metadata": {
    "collapsed": true
   },
   "outputs": [],
   "source": [
    "df['Gender'][df['Gender'].isin(['Woman','woman','Female'])] = 'female'\n",
    "df['Gender'][df['Gender'].isin(['Man','Male','man'])] = 'male'\n",
    "df['Gender'][df['Gender'].isin(['Other: Trans','Other: Trans', 'Trans/Other'])] = 'trans'\n",
    "df['Gender'][df['Gender'].isin(['1-page','Mini','App Missing', 'Not Answered'])] = 'no answer'"
   ]
  },
  {
   "cell_type": "markdown",
   "metadata": {},
   "source": [
    "Below we can see significantly more Byte Back students are female than male."
   ]
  },
  {
   "cell_type": "code",
   "execution_count": 37,
   "metadata": {
    "collapsed": false
   },
   "outputs": [
    {
     "data": {
      "text/plain": [
       "female       2578\n",
       "male         1808\n",
       "no answer     180\n",
       "trans          11\n",
       "Name: Gender, dtype: int64"
      ]
     },
     "execution_count": 37,
     "metadata": {},
     "output_type": "execute_result"
    }
   ],
   "source": [
    "df['Gender'].value_counts()"
   ]
  },
  {
   "cell_type": "code",
   "execution_count": 38,
   "metadata": {
    "collapsed": false
   },
   "outputs": [
    {
     "data": {
      "text/plain": [
       "<matplotlib.legend.Legend at 0xaede198>"
      ]
     },
     "execution_count": 38,
     "metadata": {},
     "output_type": "execute_result"
    },
    {
     "data": {
      "image/png": "[encoded data removed]",
      "text/plain": [
       "<matplotlib.figure.Figure at 0xad1c9e8>"
      ]
     },
     "metadata": {},
     "output_type": "display_data"
    }
   ],
   "source": [
    "plt.figure(figsize=(10,6))\n",
    "sns.countplot(data=df, x='Pass/DNP',hue='Gender', palette = 'Set3')\n",
    "# Put the legend out of the figure\n",
    "plt.legend(bbox_to_anchor=(1.05, 1), loc=2, borderaxespad=0.)"
   ]
  },
  {
   "cell_type": "code",
   "execution_count": 39,
   "metadata": {
    "collapsed": true
   },
   "outputs": [],
   "source": [
    "df['Race'][df['Race'].isin(['Black/African American','Black/African-American','black', 'Black'])] = 'african american'\n",
    "df['Race'][df['Race'].isin(['White/Caucasian'])] = 'white'\n",
    "df['Race'][df['Race'].isin(['Hispanic/Latino', 'HISPANIC/LATINO'])] = 'hispanic'\n",
    "df['Race'][df['Race'].isin(['Native American'])] = 'native american'\n",
    "df['Race'][df['Race'].isin(['Black/African American,Asian/Pacific Islander, Hispanic/Latino', 'multiracial-hispanic', \\\n",
    "                           'Black/African-American, Hispanic/Latino','Black/African American, Hispanic/Latino' ])] = 'multiracial-hispanic'\n",
    "df['Race'][df['Race'].isin(['Black/African American, White/Caucasian','Biracial', 'Black/African American, Native American',\\\n",
    "                           'Black/African American, Native American, White/Caucasian','Black/African American, White/Caucasian, Native American',\\\n",
    "                           'Multi-Racial'])] = 'multiracial-not hispanic'\n",
    "df['Race'][df['Race'].isin(['Other: Ethiopian','Other:Moorish American','Other: Multi Racial','Other: English',\\\n",
    "                           'Other: spanish and India', 'Other: Jamaican', 'other', 'Hebrew', 'Asian/Pacific Islander', 'Other',\\\n",
    "                           'Other: all of the above','Other: Brazil', 'Other: Blank', 'Other: Mixed' ])] = 'other'\n",
    "df['Race'][df['Race'].isin(['App Missing', 'Not Answered', 'Man', 'man', 'Woman', 'woman', 'Mini', '1-page'])] = 'no answer'"
   ]
  },
  {
   "cell_type": "markdown",
   "metadata": {},
   "source": [
    "Most students are african american.  "
   ]
  },
  {
   "cell_type": "code",
   "execution_count": 40,
   "metadata": {
    "collapsed": false,
    "scrolled": true
   },
   "outputs": [
    {
     "data": {
      "text/plain": [
       "african american            3831\n",
       "hispanic                     254\n",
       "no answer                    188\n",
       "white                        125\n",
       "other                         64\n",
       "multiracial-not hispanic      48\n",
       "native american               24\n",
       "multiracial-hispanic           7\n",
       "Name: Race, dtype: int64"
      ]
     },
     "execution_count": 40,
     "metadata": {},
     "output_type": "execute_result"
    }
   ],
   "source": [
    "df['Race'].value_counts()"
   ]
  },
  {
   "cell_type": "markdown",
   "metadata": {},
   "source": [
    "Table below shows number of students that passed, did not pass (DNP), made 50%, or TBD in the categories of gender, and then race within that category."
   ]
  },
  {
   "cell_type": "code",
   "execution_count": 43,
   "metadata": {
    "collapsed": false,
    "scrolled": true
   },
   "outputs": [
    {
     "data": {
      "text/html": [
       "<div>\n",
       "<table border=\"1\" class=\"dataframe\">\n",
       "  <thead>\n",
       "    <tr style=\"text-align: right;\">\n",
       "      <th></th>\n",
       "      <th>Pass/DNP</th>\n",
       "      <th>50%</th>\n",
       "      <th>DNP</th>\n",
       "      <th>TBD</th>\n",
       "      <th>pass</th>\n",
       "      <th>All</th>\n",
       "    </tr>\n",
       "    <tr>\n",
       "      <th>Gender</th>\n",
       "      <th>Race</th>\n",
       "      <th></th>\n",
       "      <th></th>\n",
       "      <th></th>\n",
       "      <th></th>\n",
       "      <th></th>\n",
       "    </tr>\n",
       "  </thead>\n",
       "  <tbody>\n",
       "    <tr>\n",
       "      <th rowspan=\"8\" valign=\"top\">female</th>\n",
       "      <th>african american</th>\n",
       "      <td>3</td>\n",
       "      <td>550</td>\n",
       "      <td>79</td>\n",
       "      <td>1371</td>\n",
       "      <td>2225</td>\n",
       "    </tr>\n",
       "    <tr>\n",
       "      <th>hispanic</th>\n",
       "      <td>0</td>\n",
       "      <td>38</td>\n",
       "      <td>3</td>\n",
       "      <td>105</td>\n",
       "      <td>153</td>\n",
       "    </tr>\n",
       "    <tr>\n",
       "      <th>multiracial-hispanic</th>\n",
       "      <td>0</td>\n",
       "      <td>0</td>\n",
       "      <td>1</td>\n",
       "      <td>2</td>\n",
       "      <td>4</td>\n",
       "    </tr>\n",
       "    <tr>\n",
       "      <th>multiracial-not hispanic</th>\n",
       "      <td>0</td>\n",
       "      <td>9</td>\n",
       "      <td>0</td>\n",
       "      <td>16</td>\n",
       "      <td>29</td>\n",
       "    </tr>\n",
       "    <tr>\n",
       "      <th>native american</th>\n",
       "      <td>0</td>\n",
       "      <td>3</td>\n",
       "      <td>1</td>\n",
       "      <td>9</td>\n",
       "      <td>16</td>\n",
       "    </tr>\n",
       "    <tr>\n",
       "      <th>no answer</th>\n",
       "      <td>0</td>\n",
       "      <td>3</td>\n",
       "      <td>0</td>\n",
       "      <td>10</td>\n",
       "      <td>17</td>\n",
       "    </tr>\n",
       "    <tr>\n",
       "      <th>other</th>\n",
       "      <td>0</td>\n",
       "      <td>10</td>\n",
       "      <td>0</td>\n",
       "      <td>21</td>\n",
       "      <td>32</td>\n",
       "    </tr>\n",
       "    <tr>\n",
       "      <th>white</th>\n",
       "      <td>0</td>\n",
       "      <td>12</td>\n",
       "      <td>4</td>\n",
       "      <td>45</td>\n",
       "      <td>76</td>\n",
       "    </tr>\n",
       "    <tr>\n",
       "      <th rowspan=\"8\" valign=\"top\">male</th>\n",
       "      <th>african american</th>\n",
       "      <td>6</td>\n",
       "      <td>444</td>\n",
       "      <td>49</td>\n",
       "      <td>933</td>\n",
       "      <td>1571</td>\n",
       "    </tr>\n",
       "    <tr>\n",
       "      <th>hispanic</th>\n",
       "      <td>1</td>\n",
       "      <td>23</td>\n",
       "      <td>0</td>\n",
       "      <td>70</td>\n",
       "      <td>99</td>\n",
       "    </tr>\n",
       "    <tr>\n",
       "      <th>multiracial-hispanic</th>\n",
       "      <td>0</td>\n",
       "      <td>0</td>\n",
       "      <td>0</td>\n",
       "      <td>2</td>\n",
       "      <td>3</td>\n",
       "    </tr>\n",
       "    <tr>\n",
       "      <th>multiracial-not hispanic</th>\n",
       "      <td>0</td>\n",
       "      <td>6</td>\n",
       "      <td>1</td>\n",
       "      <td>10</td>\n",
       "      <td>19</td>\n",
       "    </tr>\n",
       "    <tr>\n",
       "      <th>native american</th>\n",
       "      <td>1</td>\n",
       "      <td>2</td>\n",
       "      <td>0</td>\n",
       "      <td>5</td>\n",
       "      <td>8</td>\n",
       "    </tr>\n",
       "    <tr>\n",
       "      <th>no answer</th>\n",
       "      <td>0</td>\n",
       "      <td>3</td>\n",
       "      <td>1</td>\n",
       "      <td>5</td>\n",
       "      <td>11</td>\n",
       "    </tr>\n",
       "    <tr>\n",
       "      <th>other</th>\n",
       "      <td>0</td>\n",
       "      <td>20</td>\n",
       "      <td>0</td>\n",
       "      <td>10</td>\n",
       "      <td>32</td>\n",
       "    </tr>\n",
       "    <tr>\n",
       "      <th>white</th>\n",
       "      <td>0</td>\n",
       "      <td>10</td>\n",
       "      <td>1</td>\n",
       "      <td>33</td>\n",
       "      <td>48</td>\n",
       "    </tr>\n",
       "    <tr>\n",
       "      <th rowspan=\"4\" valign=\"top\">no answer</th>\n",
       "      <th>african american</th>\n",
       "      <td>0</td>\n",
       "      <td>8</td>\n",
       "      <td>0</td>\n",
       "      <td>9</td>\n",
       "      <td>19</td>\n",
       "    </tr>\n",
       "    <tr>\n",
       "      <th>hispanic</th>\n",
       "      <td>0</td>\n",
       "      <td>0</td>\n",
       "      <td>0</td>\n",
       "      <td>2</td>\n",
       "      <td>2</td>\n",
       "    </tr>\n",
       "    <tr>\n",
       "      <th>no answer</th>\n",
       "      <td>0</td>\n",
       "      <td>18</td>\n",
       "      <td>0</td>\n",
       "      <td>52</td>\n",
       "      <td>158</td>\n",
       "    </tr>\n",
       "    <tr>\n",
       "      <th>white</th>\n",
       "      <td>0</td>\n",
       "      <td>0</td>\n",
       "      <td>0</td>\n",
       "      <td>1</td>\n",
       "      <td>1</td>\n",
       "    </tr>\n",
       "    <tr>\n",
       "      <th rowspan=\"2\" valign=\"top\">trans</th>\n",
       "      <th>african american</th>\n",
       "      <td>0</td>\n",
       "      <td>3</td>\n",
       "      <td>2</td>\n",
       "      <td>3</td>\n",
       "      <td>9</td>\n",
       "    </tr>\n",
       "    <tr>\n",
       "      <th>no answer</th>\n",
       "      <td>0</td>\n",
       "      <td>0</td>\n",
       "      <td>0</td>\n",
       "      <td>2</td>\n",
       "      <td>2</td>\n",
       "    </tr>\n",
       "    <tr>\n",
       "      <th>All</th>\n",
       "      <th></th>\n",
       "      <td>11</td>\n",
       "      <td>1219</td>\n",
       "      <td>142</td>\n",
       "      <td>2823</td>\n",
       "      <td>4705</td>\n",
       "    </tr>\n",
       "  </tbody>\n",
       "</table>\n",
       "</div>"
      ],
      "text/plain": [
       "Pass/DNP                            50%   DNP  TBD  pass   All\n",
       "Gender    Race                                                \n",
       "female    african american            3   550   79  1371  2225\n",
       "          hispanic                    0    38    3   105   153\n",
       "          multiracial-hispanic        0     0    1     2     4\n",
       "          multiracial-not hispanic    0     9    0    16    29\n",
       "          native american             0     3    1     9    16\n",
       "          no answer                   0     3    0    10    17\n",
       "          other                       0    10    0    21    32\n",
       "          white                       0    12    4    45    76\n",
       "male      african american            6   444   49   933  1571\n",
       "          hispanic                    1    23    0    70    99\n",
       "          multiracial-hispanic        0     0    0     2     3\n",
       "          multiracial-not hispanic    0     6    1    10    19\n",
       "          native american             1     2    0     5     8\n",
       "          no answer                   0     3    1     5    11\n",
       "          other                       0    20    0    10    32\n",
       "          white                       0    10    1    33    48\n",
       "no answer african american            0     8    0     9    19\n",
       "          hispanic                    0     0    0     2     2\n",
       "          no answer                   0    18    0    52   158\n",
       "          white                       0     0    0     1     1\n",
       "trans     african american            0     3    2     3     9\n",
       "          no answer                   0     0    0     2     2\n",
       "All                                  11  1219  142  2823  4705"
      ]
     },
     "execution_count": 43,
     "metadata": {},
     "output_type": "execute_result"
    }
   ],
   "source": [
    "pd.crosstab([df.Gender, df.Race], df['Pass/DNP'],  margins=True)"
   ]
  },
  {
   "cell_type": "markdown",
   "metadata": {},
   "source": [
    "Below is a another table to highlight the information on student enrollment."
   ]
  },
  {
   "cell_type": "code",
   "execution_count": 44,
   "metadata": {
    "collapsed": false
   },
   "outputs": [
    {
     "data": {
      "text/html": [
       "<div>\n",
       "<table border=\"1\" class=\"dataframe\">\n",
       "  <thead>\n",
       "    <tr style=\"text-align: right;\">\n",
       "      <th>Race</th>\n",
       "      <th>african american</th>\n",
       "      <th>hispanic</th>\n",
       "      <th>multiracial-hispanic</th>\n",
       "      <th>multiracial-not hispanic</th>\n",
       "      <th>native american</th>\n",
       "      <th>no answer</th>\n",
       "      <th>other</th>\n",
       "      <th>white</th>\n",
       "      <th>All</th>\n",
       "    </tr>\n",
       "    <tr>\n",
       "      <th>Gender</th>\n",
       "      <th></th>\n",
       "      <th></th>\n",
       "      <th></th>\n",
       "      <th></th>\n",
       "      <th></th>\n",
       "      <th></th>\n",
       "      <th></th>\n",
       "      <th></th>\n",
       "      <th></th>\n",
       "    </tr>\n",
       "  </thead>\n",
       "  <tbody>\n",
       "    <tr>\n",
       "      <th>female</th>\n",
       "      <td>2225</td>\n",
       "      <td>153</td>\n",
       "      <td>4</td>\n",
       "      <td>29</td>\n",
       "      <td>16</td>\n",
       "      <td>17</td>\n",
       "      <td>32</td>\n",
       "      <td>76</td>\n",
       "      <td>2578</td>\n",
       "    </tr>\n",
       "    <tr>\n",
       "      <th>male</th>\n",
       "      <td>1571</td>\n",
       "      <td>99</td>\n",
       "      <td>3</td>\n",
       "      <td>19</td>\n",
       "      <td>8</td>\n",
       "      <td>11</td>\n",
       "      <td>32</td>\n",
       "      <td>48</td>\n",
       "      <td>1808</td>\n",
       "    </tr>\n",
       "    <tr>\n",
       "      <th>no answer</th>\n",
       "      <td>19</td>\n",
       "      <td>2</td>\n",
       "      <td>0</td>\n",
       "      <td>0</td>\n",
       "      <td>0</td>\n",
       "      <td>158</td>\n",
       "      <td>0</td>\n",
       "      <td>1</td>\n",
       "      <td>180</td>\n",
       "    </tr>\n",
       "    <tr>\n",
       "      <th>trans</th>\n",
       "      <td>9</td>\n",
       "      <td>0</td>\n",
       "      <td>0</td>\n",
       "      <td>0</td>\n",
       "      <td>0</td>\n",
       "      <td>2</td>\n",
       "      <td>0</td>\n",
       "      <td>0</td>\n",
       "      <td>11</td>\n",
       "    </tr>\n",
       "    <tr>\n",
       "      <th>All</th>\n",
       "      <td>3831</td>\n",
       "      <td>254</td>\n",
       "      <td>7</td>\n",
       "      <td>48</td>\n",
       "      <td>24</td>\n",
       "      <td>188</td>\n",
       "      <td>64</td>\n",
       "      <td>125</td>\n",
       "      <td>4705</td>\n",
       "    </tr>\n",
       "  </tbody>\n",
       "</table>\n",
       "</div>"
      ],
      "text/plain": [
       "Race       african american  hispanic  multiracial-hispanic  \\\n",
       "Gender                                                        \n",
       "female                 2225       153                     4   \n",
       "male                   1571        99                     3   \n",
       "no answer                19         2                     0   \n",
       "trans                     9         0                     0   \n",
       "All                    3831       254                     7   \n",
       "\n",
       "Race       multiracial-not hispanic  native american  no answer  other  white  \\\n",
       "Gender                                                                          \n",
       "female                           29               16         17     32     76   \n",
       "male                             19                8         11     32     48   \n",
       "no answer                         0                0        158      0      1   \n",
       "trans                             0                0          2      0      0   \n",
       "All                              48               24        188     64    125   \n",
       "\n",
       "Race        All  \n",
       "Gender           \n",
       "female     2578  \n",
       "male       1808  \n",
       "no answer   180  \n",
       "trans        11  \n",
       "All        4705  "
      ]
     },
     "execution_count": 44,
     "metadata": {},
     "output_type": "execute_result"
    }
   ],
   "source": [
    "pd.crosstab(df.Gender, df.Race,  margins=True)"
   ]
  },
  {
   "cell_type": "code",
   "execution_count": 45,
   "metadata": {
    "collapsed": false
   },
   "outputs": [],
   "source": [
    "#save cleaned data file to csv for later use (I will make some charts in tableau)\n",
    "df.to_csv('byteback_cleaned.csv')"
   ]
  }
 ],
 "metadata": {
  "kernelspec": {
   "display_name": "Python 3",
   "language": "python",
   "name": "python3"
  },
  "language_info": {
   "codemirror_mode": {
    "name": "ipython",
    "version": 3
   },
   "file_extension": ".py",
   "mimetype": "text/x-python",
   "name": "python",
   "nbconvert_exporter": "python",
   "pygments_lexer": "ipython3",
   "version": "3.5.1"
  }
 },
 "nbformat": 4,
 "nbformat_minor": 0
}
